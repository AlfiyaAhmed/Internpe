{
 "cells": [
  {
   "cell_type": "code",
   "execution_count": 22,
   "id": "32c56242",
   "metadata": {},
   "outputs": [],
   "source": [
    "from tkinter import*\n",
    "import time\n",
    "import sys\n",
    "from time import strftime\n",
    "def clock():\n",
    "    current_time =time.strftime(\"%H : %M : %S\")\n",
    "    digital.config(text=current_time)\n",
    "    digital.after(100,clock)\n",
    "r=Tk()\n",
    "r.geometry(\"500x200\")\n",
    "r.title(\"Digital_Clock\")\n",
    "digital=Label(r,font=(\"times\",45,\"bold\"),bg=\"Red\",fg=\"white\")\n",
    "digital.grid(row=2,column=2,pady=25,padx=100)\n",
    "clock()\n",
    "sec=Label(r,text=\"hours      minutes      seconds\",font=(\"times\", 20 ,\"bold\"),bg=\"Red\",fg=\"white\")\n",
    "sec.grid(row=3,column=2)\n",
    "r['bg']=\"Red\"\n",
    "r.mainloop()"
   ]
  }
 ],
 "metadata": {
  "kernelspec": {
   "display_name": "Python 3 (ipykernel)",
   "language": "python",
   "name": "python3"
  },
  "language_info": {
   "codemirror_mode": {
    "name": "ipython",
    "version": 3
   },
   "file_extension": ".py",
   "mimetype": "text/x-python",
   "name": "python",
   "nbconvert_exporter": "python",
   "pygments_lexer": "ipython3",
   "version": "3.10.9"
  }
 },
 "nbformat": 4,
 "nbformat_minor": 5
}
